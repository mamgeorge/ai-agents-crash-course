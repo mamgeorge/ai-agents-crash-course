{
 "cells": [
  {
   "cell_type": "markdown",
   "id": "568a95f0",
   "metadata": {},
   "source": [
    "# Retrieval-Augmented Generation (RAG)"
   ]
  },
  {
   "cell_type": "code",
   "execution_count": 2,
   "id": "3b442449",
   "metadata": {},
   "outputs": [
    {
     "data": {
      "text/plain": [
       "True"
      ]
     },
     "execution_count": 2,
     "metadata": {},
     "output_type": "execute_result"
    }
   ],
   "source": [
    "import chromadb\n",
    "import dotenv\n",
    "from pathlib import Path\n",
    "from agents import Agent, Runner, function_tool, trace\n",
    "\n",
    "dotenv.load_dotenv()"
   ]
  },
  {
   "cell_type": "markdown",
   "id": "69af3322",
   "metadata": {},
   "source": [
    "Create a static calorie table that we can use as a tool:"
   ]
  },
  {
   "cell_type": "code",
   "execution_count": 3,
   "id": "5cd4f7ad",
   "metadata": {},
   "outputs": [],
   "source": [
    "# We populated the RAG with the data from the data/calories.csv file in\n",
    "# the rag_setup.ipynb notebook\n",
    "\n",
    "chroma_client = chromadb.PersistentClient(\"../chroma\")\n",
    "nutrition_db = chroma_client.get_collection(\"nutrition_db\")\n",
    "nutrition_qna = chroma_client.get_collection(\"nutrition_qna\")"
   ]
  },
  {
   "cell_type": "code",
   "execution_count": 6,
   "id": "aae53855",
   "metadata": {},
   "outputs": [
    {
     "name": "stdout",
     "output_type": "stream",
     "text": [
      "[('calories_per_100g', 89.0), ('food_category', 'fruits'), ('food_item', 'banana'), ('keywords', 'banana_fruits'), ('kj_per_100g', 374.0), ('serving_info', '100g')]\n",
      "Food: Banana\n",
      "        Category: Fruits\n",
      "  ...\n",
      "\n",
      "\n",
      "[('calories_per_100g', 50.0), ('food_category', '(fruit)juices'), ('food_item', 'banana juice'), ('keywords', 'banana_juice_(fruit)juices'), ('kj_per_100g', 210.0), ('serving_info', '100ml')]\n",
      "Food: Banana Juice\n",
      "        Category: (Fr...\n",
      "\n",
      "\n"
     ]
    }
   ],
   "source": [
    "results = nutrition_db.query(query_texts=[\"banana\"], n_results=2)\n",
    "for i, doc in enumerate(results[\"documents\"][0]):\n",
    "    print(sorted(results[\"metadatas\"][0][i].items()))\n",
    "    print(doc[:40] + \"...\")\n",
    "    print(\"\\n\")"
   ]
  },
  {
   "cell_type": "code",
   "execution_count": 7,
   "id": "428267f9",
   "metadata": {},
   "outputs": [
    {
     "name": "stdout",
     "output_type": "stream",
     "text": [
      "[('is_pregnancy', False)]\n",
      "Question: What is the recommended amount of bananas I should consume to count it as a single serving?\n",
      "        Answer: One small-sized banana can be counted as a single serving.\n",
      "\n",
      "        This Q&A pair provides information about nutrition and health topics....\n",
      "\n",
      "\n",
      "[('is_pregnancy', False)]\n",
      "Question: Which food is recommended for infants after they've been introduced to ripe bananas and sweet potatoes?\n",
      "        Answer: Introduce porridge made from wheat flour or ground rice, starting with only one cereal. Once a week has passed, you may increase the frequency of this new food to two feedings per day.\n",
      "\n",
      "        This Q&A pair provides information about nutrition and health topics....\n",
      "\n",
      "\n"
     ]
    }
   ],
   "source": [
    "results = nutrition_qna.query(query_texts=[\"banana\"], n_results=2)\n",
    "for i, doc in enumerate(results[\"documents\"][0]):\n",
    "    print(sorted(results[\"metadatas\"][0][i].items()))\n",
    "    print(doc + \"...\")\n",
    "    print(\"\\n\")"
   ]
  },
  {
   "cell_type": "code",
   "execution_count": 30,
   "id": "fe2a2850",
   "metadata": {},
   "outputs": [],
   "source": [
    "@function_tool\n",
    "def calorie_lookup_tool(query: str, max_results: int = 3) -> str:\n",
    "    \"\"\"\n",
    "    Tool function for a RAG database to look up calorie information for specific food items, but not for meals.\n",
    "\n",
    "    Args:\n",
    "        query: The food item to look up.\n",
    "        max_results: The maximum number of results to return.\n",
    "\n",
    "    Returns:\n",
    "        A string containing the nutrition information.\n",
    "    \"\"\"\n",
    "\n",
    "    results = nutrition_db.query(query_texts=[query], n_results=max_results)\n",
    "\n",
    "    if not results[\"documents\"][0]:\n",
    "        return f\"No nutrition information found for: {query}\"\n",
    "\n",
    "    # Format results for the agent\n",
    "    # FoodCategory,FoodItem,per100grams,Cals_per100grams,KJ_per100grams\n",
    "    formatted_results = []\n",
    "    for i, doc in enumerate(results[\"documents\"][0]):\n",
    "        metadata = results[\"metadatas\"][0][i]\n",
    "        food_item = metadata[\"food_item\"].title()\n",
    "        calories = metadata[\"calories_per_100g\"]\n",
    "        category = metadata[\"food_category\"].title()\n",
    "\n",
    "        formatted_results.append(\n",
    "            f\"{food_item} ({category}): {calories} calories per 100g\"\n",
    "        )\n",
    "\n",
    "    return \"Nutrition Information:\\n\" + \"\\n\".join(formatted_results)"
   ]
  },
  {
   "cell_type": "code",
   "execution_count": 44,
   "id": "3453c320",
   "metadata": {},
   "outputs": [],
   "source": [
    "@function_tool\n",
    "def question_lookup_tool(query: str, max_results: int = 3) -> str:\n",
    "    \"\"\"\n",
    "    Tool function too ask a question about nutrition.\n",
    "\n",
    "    Args:\n",
    "        query: The question to ask\n",
    "        max_results: The maximum number of results to return.\n",
    "\n",
    "    Returns:\n",
    "        A string containing the question and the answer related to the query.\n",
    "    \"\"\"\n",
    "\n",
    "    results = nuntrition_qna_db.query(query_texts=[query], n_results=max_results)\n",
    "\n",
    "    if not results[\"documents\"][0]:\n",
    "        return f\"No information found for: {query}\"\n",
    "\n",
    "    # Format results for the agent\n",
    "    formatted_results = []\n",
    "    for i, doc in enumerate(results[\"documents\"][0]):\n",
    "        formatted_results.append(doc)\n",
    "\n",
    "    return \"Related answers to your question:\\n\" + \"\\n\".join(formatted_results)"
   ]
  },
  {
   "cell_type": "markdown",
   "id": "c4507cd1",
   "metadata": {},
   "source": [
    "Let's test this out: \n",
    "\n",
    "_The following cell only works before you add the `@function_tool` annotation to `calorie_lookup_tool` function_"
   ]
  },
  {
   "cell_type": "code",
   "execution_count": null,
   "id": "3f07cbdb",
   "metadata": {},
   "outputs": [
    {
     "data": {
      "text/plain": [
       "'Nutrition Information:\\nBanana (Fruits): 89.0 calories per 100g\\nBanana Juice ((Fruit)Juices): 50.0 calories per 100g\\nBanana Nut Bread (Pastries,Breads&Rolls): 326.0 calories per 100g'"
      ]
     },
     "execution_count": 12,
     "metadata": {},
     "output_type": "execute_result"
    }
   ],
   "source": [
    "#calorie_lookup_tool('bananas')"
   ]
  },
  {
   "cell_type": "code",
   "execution_count": null,
   "id": "b7770101",
   "metadata": {},
   "outputs": [
    {
     "data": {
      "text/plain": [
       "\"Question Information:\\nQuestion: Which food is recommended for infants after they've been introduced to ripe bananas and sweet potatoes?\\n        Answer: Introduce porridge made from wheat flour or ground rice, starting with only one cereal. Once a week has passed, you may increase the frequency of this new food to two feedings per day.\\n\\n        This Q&A pair provides information about nutrition and health topics.\\nQuestion: What is the recommended amount of bananas I should consume to count it as a single serving?\\n        Answer: One small-sized banana can be counted as a single serving.\\n\\n        This Q&A pair provides information about nutrition and health topics.\\nQuestion: Which fruits are high in potassium that I should consider eating?\\n        Answer: Avocados, bananas, cantaloups, mangoes and papayas are all excellent options if you're looking for high-potassium fruits to eat.\\n\\n        This Q&A pair provides information about nutrition and health topics.\""
      ]
     },
     "execution_count": 36,
     "metadata": {},
     "output_type": "execute_result"
    }
   ],
   "source": [
    "#question_lookup_tool('bananas')"
   ]
  },
  {
   "cell_type": "code",
   "execution_count": 45,
   "id": "1fe172e2",
   "metadata": {},
   "outputs": [],
   "source": [
    "calorie_agent = Agent(\n",
    "    name=\"Nutrition Assistant\",\n",
    "    instructions=\"\"\"\n",
    "    You are a helpful nutrition assistant giving out calorie information and nutrtion advice    .\n",
    "    You give concise answers.\n",
    "    \n",
    "    If you need to look up calorie information, use the calorie_lookup_tool.\n",
    "    If are asked a question about nutrition, always use the nutrtition_qna_tool first to see if there is an answer in the knowledge base.\n",
    "    \"\"\",\n",
    "    tools=[calorie_lookup_tool, question_lookup_tool],\n",
    ")"
   ]
  },
  {
   "cell_type": "code",
   "execution_count": 46,
   "id": "1705b2fc",
   "metadata": {},
   "outputs": [
    {
     "name": "stdout",
     "output_type": "stream",
     "text": [
      "Here are general guidance and some example meal ideas for pregnant women. Calorie needs vary by trimester and individual, so it’s best to consult your healthcare provider for personalized targets.\n",
      "\n",
      "Key nutrition focus\n",
      "- Protein: aim for lean meats, fish (low-mercury), eggs, dairy, beans, and nuts.\n",
      "- Folate/iron: leafy greens, fortified cereals, beans, meat, lentils; vitamin C to help iron absorption.\n",
      "- Calcium and vitamin D: dairy or fortified alternatives; salmon with bones, leafy greens.\n",
      "- DHA/EPA: fatty fish (low-mercury) like salmon, sardines; consider a supplement if advised.\n",
      "- Fiber and fluids: fruits, vegetables, whole grains; keep hydrated.\n",
      "- Avoid: raw/undercooked seafood and eggs, unpasteurized dairy, certain soft cheeses, high-mercury fish, and unwashed produce.\n",
      "\n",
      "Typical daily calorie guidance (adjust with your clinician)\n",
      "- First trimester: no mandatory extra calories beyond a healthy, balanced diet.\n",
      "- Second trimester: about +340–360 calories/day.\n",
      "- Third trimester: about +450 calories/day.\n",
      "Individual needs vary.\n",
      "\n",
      "Example balanced meals (rough calorie ranges)\n",
      "- Breakfast: Greek yogurt with berries, a tablespoon of nuts, and a small whole-grain toast (~350–450 kcal).\n",
      "- Lunch: Salmon quinoa bowl with mixed vegetables and olive oil, plus a side of fruit (~500–650 kcal).\n",
      "- Dinner: Lean chicken or tofu stir-fry with brown rice and lots of veggies (~450–600 kcal).\n",
      "- Snacks: Apple with peanut butter, cheese and crackers, or a smoothie with fortified milk (~150–300 kcal each).\n",
      "\n",
      "If you want, tell me specific foods or meals you’re considering and I’ll estimate calories or look up exact values for those items.\n"
     ]
    }
   ],
   "source": [
    "with trace(\"Nutrition Assistant with Nutrition and Calorie RAG\"):\n",
    "    result = await Runner.run(\n",
    "        calorie_agent,\n",
    "        \"What are the best meal choices for pregnant women and how many calories do they have?\",\n",
    "    )\n",
    "    print(result.final_output)"
   ]
  }
 ],
 "metadata": {
  "kernelspec": {
   "display_name": "Python 3",
   "language": "python",
   "name": "python3"
  },
  "language_info": {
   "codemirror_mode": {
    "name": "ipython",
    "version": 3
   },
   "file_extension": ".py",
   "mimetype": "text/x-python",
   "name": "python",
   "nbconvert_exporter": "python",
   "pygments_lexer": "ipython3",
   "version": "3.13.5"
  }
 },
 "nbformat": 4,
 "nbformat_minor": 5
}
